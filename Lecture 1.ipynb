{
 "cells": [
  {
   "cell_type": "code",
   "execution_count": 1,
   "id": "initial_id",
   "metadata": {
    "collapsed": true,
    "ExecuteTime": {
     "end_time": "2024-04-06T09:25:08.670954700Z",
     "start_time": "2024-04-06T09:25:08.659587900Z"
    }
   },
   "outputs": [
    {
     "name": "stdout",
     "output_type": "stream",
     "text": [
      "The sum of ∑_i∈N i*i = 164\n"
     ]
    }
   ],
   "source": [
    "N={1,3,4,5,7,8}\n",
    "print('The sum of ∑_i∈N i*i =',sum( i**2 for i in N ) )"
   ]
  },
  {
   "cell_type": "markdown",
   "source": [
    "Excercise-1: Python Variables\n",
    "1.Create a variable called break and assign it a value 5. See what happens and find out the reason behind the behavior that you see.\n",
    "\n",
    "2.Create two variables. One to store your birth year and another one to store current year. Now calculate your age using these two variables\n",
    "\n",
    "3.Store your first, middle and last name in three different variables and then print your full name using these variables\n",
    "\n",
    "4.Answer which of these are invalid variable names: _nation 1record record1 record_one record-one record^one continue\n",
    "\n",
    "\n"
   ],
   "metadata": {
    "collapsed": false
   },
   "id": "c1e50afd616c1bdc"
  },
  {
   "cell_type": "code",
   "execution_count": 19,
   "outputs": [
    {
     "data": {
      "text/plain": "5"
     },
     "execution_count": 19,
     "metadata": {},
     "output_type": "execute_result"
    }
   ],
   "source": [
    "Break = 5\n",
    "Break"
   ],
   "metadata": {
    "collapsed": false,
    "ExecuteTime": {
     "end_time": "2024-04-06T10:07:58.441622800Z",
     "start_time": "2024-04-06T10:07:58.406034800Z"
    }
   },
   "id": "f83524400f4acddf"
  },
  {
   "cell_type": "code",
   "execution_count": 18,
   "outputs": [
    {
     "data": {
      "text/plain": "28"
     },
     "execution_count": 18,
     "metadata": {},
     "output_type": "execute_result"
    }
   ],
   "source": [
    "BirthYear = 1996\n",
    "CurrentYear = 2024\n",
    "Age =CurrentYear-BirthYear\n",
    "Age"
   ],
   "metadata": {
    "collapsed": false,
    "ExecuteTime": {
     "end_time": "2024-04-06T09:51:53.693478300Z",
     "start_time": "2024-04-06T09:51:53.666362200Z"
    }
   },
   "id": "a369bf9f789bf1a5"
  },
  {
   "cell_type": "code",
   "execution_count": 17,
   "outputs": [
    {
     "ename": "NameError",
     "evalue": "name 'SatyanarayanaMurty' is not defined",
     "output_type": "error",
     "traceback": [
      "\u001B[1;31m---------------------------------------------------------------------------\u001B[0m",
      "\u001B[1;31mNameError\u001B[0m                                 Traceback (most recent call last)",
      "Cell \u001B[1;32mIn[17], line 1\u001B[0m\n\u001B[1;32m----> 1\u001B[0m First\u001B[38;5;241m=\u001B[39mSai,Middle\u001B[38;5;241m=\u001B[39mSatyanarayanaMurty\n\u001B[0;32m      2\u001B[0m \u001B[38;5;28mprint\u001B[39m(First \u001B[38;5;241m+\u001B[39m Middle)\n",
      "\u001B[1;31mNameError\u001B[0m: name 'SatyanarayanaMurty' is not defined"
     ]
    }
   ],
   "source": [
    "First=Sai,Middle=SatyanarayanaMurty\n",
    "print(First + Middle)\n",
    "#without being enclosed in the quotation marks, names are treated as variables, keywords or names as opposed to strings literals. so it is essential to enclose them in quotation marks "
   ],
   "metadata": {
    "collapsed": false,
    "ExecuteTime": {
     "end_time": "2024-04-06T09:51:43.381059400Z",
     "start_time": "2024-04-06T09:51:43.362129400Z"
    }
   },
   "id": "22b550d4e3a05145"
  },
  {
   "cell_type": "code",
   "execution_count": null,
   "outputs": [],
   "source": [
    "#Answer which of these are invalid variable names: _nation 1record record1 record_one record-one record^one continue\n",
    "\n",
    "_nation =1\n",
    "1record=2#cannot begin with number\n",
    "record1=3\n",
    "record_one=4\n",
    "record-one=5#minus is not allowed\n",
    "record^one=6 #special charecters like this are not allowed\n",
    "continue=7 #keywords cannot be used as variable names"
   ],
   "metadata": {
    "collapsed": false
   },
   "id": "99edd97a2acc2d4d"
  },
  {
   "cell_type": "markdown",
   "source": [
    "Excercise-2 Numbers\n",
    "\n",
    "1.You have a football field that is 92 meter long and 48.8 meter wide. Find out total area using python and print it.\n",
    "2.You bought 9 packets of potato chips from a store. Each packet costs 1.49 dollar and you gave shopkeeper 20 dollar. Find out using python, how many dollars is the shopkeeper going to give you back?\n",
    "3.You want to replace tiles in your bathroom which is exactly square and 5.5 feet is its length. If tiles cost 500 rs per square feet, how much will be the total cost to replace all tiles. Calculate and print the cost using python (Hint: Use power operator ** to find area of a square)\n",
    "4. Print binary representation of number 17"
   ],
   "metadata": {
    "collapsed": false
   },
   "id": "4e75820a0303a9b6"
  },
  {
   "cell_type": "code",
   "execution_count": 26,
   "outputs": [
    {
     "name": "stdout",
     "output_type": "stream",
     "text": [
      "Area= 4489.599999999999\n"
     ]
    }
   ],
   "source": [
    "Length=92\n",
    "Width=48.8\n",
    "print('Area=', Length * Width) #By including the comma, it prints 'Area=' and the area value side by side on a single line."
   ],
   "metadata": {
    "collapsed": false,
    "ExecuteTime": {
     "end_time": "2024-04-06T10:34:18.705372700Z",
     "start_time": "2024-04-06T10:34:18.681766500Z"
    }
   },
   "id": "b768344c7f423192"
  },
  {
   "cell_type": "code",
   "execution_count": 27,
   "outputs": [
    {
     "name": "stdout",
     "output_type": "stream",
     "text": [
      "balance amount= 6.59\n"
     ]
    }
   ],
   "source": [
    "No_of_Packets=9\n",
    "Pkt_price=1.49\n",
    "Amt_given=20\n",
    "print('balance amount=', Amt_given-No_of_Packets*Pkt_price)"
   ],
   "metadata": {
    "collapsed": false,
    "ExecuteTime": {
     "end_time": "2024-04-06T10:38:12.143107800Z",
     "start_time": "2024-04-06T10:38:12.123519800Z"
    }
   },
   "id": "29900a9a091178ff"
  },
  {
   "cell_type": "code",
   "execution_count": 28,
   "outputs": [
    {
     "name": "stdout",
     "output_type": "stream",
     "text": [
      "15125.0\n"
     ]
    }
   ],
   "source": [
    "Length_of_tile = 5.5\n",
    "Amont_per_sqft = (Length_of_tile)**2 * 500\n",
    "print(Amont_per_sqft)"
   ],
   "metadata": {
    "collapsed": false,
    "ExecuteTime": {
     "end_time": "2024-04-06T10:44:35.684673400Z",
     "start_time": "2024-04-06T10:44:35.670768200Z"
    }
   },
   "id": "2ef715b6dc0dfcb0"
  },
  {
   "cell_type": "code",
   "execution_count": 29,
   "outputs": [
    {
     "name": "stdout",
     "output_type": "stream",
     "text": [
      "Binary of number 17 is: 10001\n"
     ]
    }
   ],
   "source": [
    "num=17\n",
    "print('Binary of number 17 is:',format(num,'b'))"
   ],
   "metadata": {
    "collapsed": false,
    "ExecuteTime": {
     "end_time": "2024-04-06T10:50:15.690079500Z",
     "start_time": "2024-04-06T10:50:15.682425400Z"
    }
   },
   "id": "147829ebecefa8ed"
  },
  {
   "cell_type": "markdown",
   "source": [
    "## Exercise 3: String in Python\n",
    "\n",
    "1. Create 3 variables to store street, city and country, now create address variable to\n",
    "store entire address. Use two ways of creating this variable, one using + operator and the other using f-string.\n",
    "Now Print the address in such a way that the street, city and country prints in a separate line\n",
    "2. Create a variable to store the string \"Earth revolves around the sun\"\n",
    "    1. Print \"revolves\" using slice operator\n",
    "    2. Print \"sun\" using negative index\n",
    "3. Create two variables to store how many fruits and vegetables you eat in a day.\n",
    "Now Print \"I eat x veggies and y fruits daily\" where x and y presents vegetables and fruits that you eat everyday. Use python f string for this.\n",
    "4. I have a string variable called s='maine 200 banana khaye'. This of course is a\n",
    "wrong statement, the correct statement is 'maine 10 samosa khaye'.\n",
    "Replace incorrect words in original strong with new ones and print the new string.\n",
    "Also try to do this in one line."
   ],
   "metadata": {
    "collapsed": false
   },
   "id": "42d2a1c2c7d9b43"
  },
  {
   "cell_type": "code",
   "execution_count": 42,
   "outputs": [
    {
     "name": "stdout",
     "output_type": "stream",
     "text": [
      "Address: larwoodplace Milton Keynes England\n",
      " Address: larwoodplace,Milton Keynes,England\n"
     ]
    }
   ],
   "source": [
    "Street= 'larwoodplace'\n",
    "City='Milton Keynes'\n",
    "Country='England'\n",
    "print('Address:', Street + \" \" + City + \" \" + Country)\n",
    "print(f\" Address: {Street},{City},{Country}\")"
   ],
   "metadata": {
    "collapsed": false,
    "ExecuteTime": {
     "end_time": "2024-04-06T11:17:04.648299800Z",
     "start_time": "2024-04-06T11:17:04.625691900Z"
    }
   },
   "id": "6f67862251b6033"
  },
  {
   "cell_type": "code",
   "execution_count": 49,
   "outputs": [
    {
     "name": "stdout",
     "output_type": "stream",
     "text": [
      "revolves\n",
      "sun\n"
     ]
    }
   ],
   "source": [
    "lol= 'Earth revolves around sun'\n",
    "print(lol[6:14])\n",
    "print(lol[-3:])"
   ],
   "metadata": {
    "collapsed": false,
    "ExecuteTime": {
     "end_time": "2024-04-06T11:23:39.192714800Z",
     "start_time": "2024-04-06T11:23:39.166967900Z"
    }
   },
   "id": "ff3f4e568a94f682"
  },
  {
   "cell_type": "code",
   "execution_count": 51,
   "outputs": [
    {
     "name": "stdout",
     "output_type": "stream",
     "text": [
      "I eat 2 fruits and 1 vegetables everyday\n"
     ]
    }
   ],
   "source": [
    "fruits= 2\n",
    "vegetables=1\n",
    "print(f\"I eat {fruits} fruits and {vegetables} vegetables everyday\")"
   ],
   "metadata": {
    "collapsed": false,
    "ExecuteTime": {
     "end_time": "2024-04-06T11:28:42.664603400Z",
     "start_time": "2024-04-06T11:28:42.656219200Z"
    }
   },
   "id": "6782f3433d00e37a"
  },
  {
   "cell_type": "code",
   "execution_count": 52,
   "outputs": [
    {
     "name": "stdout",
     "output_type": "stream",
     "text": [
      "i am a sophisticated person\n"
     ]
    }
   ],
   "source": [
    "s= 'i am not as sophisticated person'\n",
    "s= s.replace('not as', 'a')\n",
    "print(s)"
   ],
   "metadata": {
    "collapsed": false,
    "ExecuteTime": {
     "end_time": "2024-04-06T11:34:39.341291300Z",
     "start_time": "2024-04-06T11:34:39.332559900Z"
    }
   },
   "id": "4b3c6181cee21918"
  },
  {
   "cell_type": "code",
   "execution_count": 56,
   "outputs": [
    {
     "name": "stdout",
     "output_type": "stream",
     "text": [
      "Hello,World\n"
     ]
    }
   ],
   "source": [
    "print(\"Hello,World\")\n"
   ],
   "metadata": {
    "collapsed": false,
    "ExecuteTime": {
     "end_time": "2024-04-06T11:58:16.133679100Z",
     "start_time": "2024-04-06T11:58:16.108863600Z"
    }
   },
   "id": "8b7fa9afe6c65db3"
  },
  {
   "cell_type": "markdown",
   "source": [
    "## Rough work"
   ],
   "metadata": {
    "collapsed": false
   },
   "id": "7f496f4db47dc5bd"
  },
  {
   "cell_type": "code",
   "execution_count": null,
   "outputs": [],
   "source": [
    "import copy\n",
    "\n",
    "mystr = 'sai1'\n",
    "type(mystr)\n",
    "mystr = 'sai1'\n",
    "mystr.isalnum()\n",
    "mystr = 'sai'\n",
    "mystr.isalnum()\n",
    "## Lists\n",
    "list()\n",
    "print(list)\n",
    "print(list())\n",
    "print(type(list))\n",
    "type(list())\n",
    "print(type)\n",
    "\n",
    "squares = [x ** 2 for x in range(10)]\n",
    "print(squares)\n",
    "a = [1, 2, 3, [45, 90]]\n",
    "print(a)\n",
    "b = a\n",
    "print(b)\n",
    "b = a.copy()\n",
    "b\n",
    "import copy\n",
    "\n",
    "deep = copy.deepcopy(a)\n",
    "\n",
    "a[3][1] = 3\n",
    "print(deep)\n",
    "print(b)\n"
   ],
   "metadata": {
    "collapsed": false
   },
   "id": "5f590f1bd32c7c50"
  },
  {
   "cell_type": "code",
   "execution_count": 9,
   "outputs": [
    {
     "name": "stdout",
     "output_type": "stream",
     "text": [
      "<class 'list'>\n",
      "<class 'set'>\n"
     ]
    }
   ],
   "source": [
    "type(list())\n",
    "print(type(list()))\n",
    "set_var = set()\n",
    "print(type(set_var))"
   ],
   "metadata": {
    "collapsed": false,
    "ExecuteTime": {
     "end_time": "2024-04-09T19:32:01.209393800Z",
     "start_time": "2024-04-09T19:32:01.184538200Z"
    }
   },
   "id": "42ed3e53788e918c"
  },
  {
   "cell_type": "code",
   "execution_count": null,
   "outputs": [],
   "source": [],
   "metadata": {
    "collapsed": false
   },
   "id": "301b469c07f99732"
  }
 ],
 "metadata": {
  "kernelspec": {
   "display_name": "Python 3",
   "language": "python",
   "name": "python3"
  },
  "language_info": {
   "codemirror_mode": {
    "name": "ipython",
    "version": 2
   },
   "file_extension": ".py",
   "mimetype": "text/x-python",
   "name": "python",
   "nbconvert_exporter": "python",
   "pygments_lexer": "ipython2",
   "version": "2.7.6"
  }
 },
 "nbformat": 4,
 "nbformat_minor": 5
}
